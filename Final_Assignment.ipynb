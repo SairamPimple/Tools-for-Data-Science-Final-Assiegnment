{
 "cells": [
  {
   "cell_type": "markdown",
   "id": "dd3c08ee-d405-477d-af26-375011b8f66e",
   "metadata": {},
   "source": [
    "# Data Science Tools and Ecosystem"
   ]
  },
  {
   "cell_type": "markdown",
   "id": "54fd412d-bcbf-4113-806c-74a7d267648c",
   "metadata": {},
   "source": [
    "In this notebook, Data Science Tools and Ecosystem are summarized."
   ]
  },
  {
   "cell_type": "markdown",
   "id": "0e64b6da-b976-4fae-9ca7-b90646cbc982",
   "metadata": {
    "tags": []
   },
   "source": [
    "### Data Science Languages:\n",
    "1. Python\n",
    "2. R\n",
    "3. SQL\n",
    "3. Julia\n",
    "4. Java\n",
    "5. Ruby\n",
    "6. Perl\n",
    "7. Scala"
   ]
  },
  {
   "cell_type": "markdown",
   "id": "3c27626b-837c-4575-94a5-f79dec424f82",
   "metadata": {
    "jp-MarkdownHeadingCollapsed": true,
    "tags": []
   },
   "source": [
    "### Libraries commonly used in data science\n",
    "\n",
    "1. Python Libraries\n",
    "    - Pandas\n",
    "    - Numpy\n",
    "    - SciPy\n",
    "    - Scikit-learn\n",
    "    - TensorFlow\n",
    "    - PyTorch\n",
    "    - Keras\n",
    "\n",
    "2. R Libraries\n",
    "    - ggplot2\n",
    "    - dplyr\n",
    "    - tidyr\n",
    "    - caret\n",
    "    - randomForest\n",
    "    - shiny\n",
    "    - xgbost\n",
    "    - data.table\n",
    "\n",
    "\n",
    "3. Julia Libraries:\n",
    "    - DataFrames.jl\n",
    "    - Flux.jl\n",
    "    - Gadfly.jl\n",
    "    - StatsBase.jl\n",
    "    - LightGBM.jl\n",
    "    \n",
    "    "
   ]
  },
  {
   "cell_type": "markdown",
   "id": "00f6c068-b80a-4139-9ee0-5eca28fa214f",
   "metadata": {},
   "source": [
    "###  Table of Data Science tools\n",
    "\n",
    "| Tool | language | Primary Function|\n",
    "| ----- | ------- | --------- |\n",
    "| Jupyter Notebook | Python | Interactive coding, data visualization, and documentation |\n",
    "| Rstudio | R | Data analysis, statistical modeling, and visualization |\n",
    "| Apache Spark | Scala, Python, R | Distributed data processing and analytics |\n",
    "| Hadoop | Java, Python | \tDistributed data storage and processing |\n",
    "| Excel | - | Spreadsheet-based data analysis and visualization | \n",
    "| Google Colab | Python | Cloud-based Jupyter notebooks with GPU support |"
   ]
  },
  {
   "cell_type": "markdown",
   "id": "c1d2fce0-de4d-4f0c-bdef-f23bd5ae6662",
   "metadata": {},
   "source": [
    "### Below are a few examples of evaluating arithmetic expressions in Python"
   ]
  },
  {
   "cell_type": "code",
   "execution_count": 1,
   "id": "766856d0-7889-419d-a8db-21f27a5dc48d",
   "metadata": {
    "tags": []
   },
   "outputs": [
    {
     "data": {
      "text/plain": [
       "17"
      ]
     },
     "execution_count": 1,
     "metadata": {},
     "output_type": "execute_result"
    }
   ],
   "source": [
    "#  This a simple arithmetic expression to mutiply then add integers\n",
    "(3*4)+5"
   ]
  },
  {
   "cell_type": "code",
   "execution_count": 2,
   "id": "f8ddb846-e645-449d-880c-3c1c8d1951c0",
   "metadata": {
    "tags": []
   },
   "outputs": [
    {
     "name": "stdout",
     "output_type": "stream",
     "text": [
      "200 is equal to 3.3333333333333335 hours\n"
     ]
    }
   ],
   "source": [
    "#  This will convert 200 minutes to hours by diving by 60.\n",
    "minutes = 200\n",
    "hours = minutes / 60\n",
    "print(str(minutes) + \" is equal to \" + str(hours) + \" hours\")\n"
   ]
  },
  {
   "cell_type": "markdown",
   "id": "ecb27857-0b79-4f4a-a79b-cd5972372d18",
   "metadata": {
    "tags": []
   },
   "source": [
    "**Objectives:**\n",
    "\n",
    "- List popular languages for Data Science\n",
    "- Introduce key libraries for data analysis and machine learning\n",
    "- Understand essential data science tools and their functions\n",
    "- Learn to perform basic data manipulations and visualizations\n",
    "\n"
   ]
  },
  {
   "cell_type": "markdown",
   "id": "cb9e3c36-4204-4b99-9eb0-ff2a34ae8c56",
   "metadata": {
    "tags": []
   },
   "source": [
    "## Author\n",
    "\n",
    "Sairam Pimple\n"
   ]
  },
  {
   "cell_type": "code",
   "execution_count": null,
   "id": "6e391f09-56c2-4636-81b3-7fb79518adc4",
   "metadata": {},
   "outputs": [],
   "source": []
  }
 ],
 "metadata": {
  "kernelspec": {
   "display_name": "Python 3 (ipykernel)",
   "language": "python",
   "name": "python3"
  },
  "language_info": {
   "codemirror_mode": {
    "name": "ipython",
    "version": 3
   },
   "file_extension": ".py",
   "mimetype": "text/x-python",
   "name": "python",
   "nbconvert_exporter": "python",
   "pygments_lexer": "ipython3",
   "version": "3.11.5"
  }
 },
 "nbformat": 4,
 "nbformat_minor": 5
}
